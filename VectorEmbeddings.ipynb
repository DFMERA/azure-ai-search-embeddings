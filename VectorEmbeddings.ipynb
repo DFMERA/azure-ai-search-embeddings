{
 "cells": [
  {
   "cell_type": "markdown",
   "id": "f202fce0",
   "metadata": {},
   "source": [
    "## Generate embeddings with the OpenAI SDK"
   ]
  },
  {
   "cell_type": "markdown",
   "id": "f3fd8e09",
   "metadata": {},
   "source": [
    "### Set up the OpenAI client with GitHub Models"
   ]
  },
  {
   "cell_type": "code",
   "execution_count": null,
   "id": "09d43805",
   "metadata": {},
   "outputs": [],
   "source": [
    "#%pip install python-dotenv\n",
    "#%pip install openai\n",
    "\n",
    "import os\n",
    "import dotenv\n",
    "import openai\n",
    "\n",
    "dotenv.load_dotenv()\n",
    "\n",
    "openai_client = openai.OpenAI(\n",
    "    base_url=\"https://models.inference.ai.azure.com\",\n",
    "    api_key=os.environ[\"GITHUB_TOKEN\"]\n",
    ")\n",
    "MODEL_NAME = \"text-embedding-3-small\""
   ]
  },
  {
   "cell_type": "markdown",
   "id": "f0728578",
   "metadata": {},
   "source": [
    "### Generate embeddings using OpenAI client"
   ]
  },
  {
   "cell_type": "code",
   "execution_count": null,
   "id": "e1e8366f",
   "metadata": {},
   "outputs": [],
   "source": [
    "content_input = \"Hoja de vida: Lionel Messi. Futbolista argentino, considerado uno de los mejores jugadores de fútbol de todos los tiempos.\""
   ]
  },
  {
   "cell_type": "code",
   "execution_count": null,
   "id": "8415d413",
   "metadata": {},
   "outputs": [],
   "source": [
    "embeddings_response = openai_client.embeddings.create(\n",
    "    model=MODEL_NAME,\n",
    "    input=content_input,\n",
    ")\n",
    "embedding = embeddings_response.data[0].embedding\n",
    "\n",
    "print(len(embedding))\n",
    "print(embedding)"
   ]
  },
  {
   "cell_type": "markdown",
   "id": "121eeac0",
   "metadata": {},
   "source": [
    "### Vector similarity"
   ]
  },
  {
   "cell_type": "code",
   "execution_count": null,
   "id": "62024bb9",
   "metadata": {},
   "outputs": [],
   "source": [
    "def cosine_similarity(v1, v2):\n",
    "\n",
    "  dot_product = sum(\n",
    "    [a * b for a, b in zip(v1, v2)])\n",
    "  \n",
    "  magnitude = (\n",
    "    sum([a**2 for a in v1]) *\n",
    "    sum([a**2 for a in v2])) ** 0.5\n",
    "\n",
    "  return dot_product / magnitude"
   ]
  },
  {
   "cell_type": "code",
   "execution_count": null,
   "id": "294c30b4",
   "metadata": {},
   "outputs": [],
   "source": [
    "embeddings_response = openai_client.embeddings.create(\n",
    "    model=MODEL_NAME,\n",
    "    input=content_input,\n",
    ")\n",
    "content_embedding = embeddings_response.data[0].embedding\n",
    "print(content_embedding)"
   ]
  },
  {
   "cell_type": "code",
   "execution_count": null,
   "id": "377df61a",
   "metadata": {},
   "outputs": [],
   "source": [
    "embeddings_response = openai_client.embeddings.create(\n",
    "    model=MODEL_NAME,\n",
    "    input=\"Diego Zumárraga Mera\",\n",
    ")\n",
    "query_embedding1 = embeddings_response.data[0].embedding\n",
    "print(query_embedding1)"
   ]
  },
  {
   "cell_type": "code",
   "execution_count": null,
   "id": "7f8bd3a4",
   "metadata": {},
   "outputs": [],
   "source": [
    "# Compare the two vectors\n",
    "similarity = cosine_similarity(query_embedding1, content_embedding)\n",
    "print(f\"Similarity: {similarity:.4f}\")"
   ]
  },
  {
   "cell_type": "code",
   "execution_count": null,
   "id": "5f83c859",
   "metadata": {},
   "outputs": [],
   "source": [
    "embeddings_response = openai_client.embeddings.create(\n",
    "    model=MODEL_NAME,\n",
    "    input=\"Resume la hoja de vida de Diego Zumárraga Mera\",\n",
    ")\n",
    "query_embedding2 = embeddings_response.data[0].embedding\n",
    "print(query_embedding2)"
   ]
  },
  {
   "cell_type": "code",
   "execution_count": null,
   "id": "53a50840",
   "metadata": {},
   "outputs": [],
   "source": [
    "# Compare the two vectors\n",
    "similarity = cosine_similarity(query_embedding2, content_embedding)\n",
    "print(f\"Similarity: {similarity:.4f}\")"
   ]
  }
 ],
 "metadata": {
  "kernelspec": {
   "display_name": ".venv",
   "language": "python",
   "name": "python3"
  },
  "language_info": {
   "codemirror_mode": {
    "name": "ipython",
    "version": 3
   },
   "file_extension": ".py",
   "mimetype": "text/x-python",
   "name": "python",
   "nbconvert_exporter": "python",
   "pygments_lexer": "ipython3",
   "version": "3.10.16"
  }
 },
 "nbformat": 4,
 "nbformat_minor": 5
}
