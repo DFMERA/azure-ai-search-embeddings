{
 "cells": [
  {
   "cell_type": "markdown",
   "id": "dd1d15fe",
   "metadata": {},
   "source": [
    "# Probar la búsqueda en Azure AI Search"
   ]
  },
  {
   "cell_type": "markdown",
   "id": "8a32e566",
   "metadata": {},
   "source": [
    "### Generar los embedings para una consulta"
   ]
  },
  {
   "cell_type": "code",
   "execution_count": null,
   "id": "78acc1d5",
   "metadata": {},
   "outputs": [],
   "source": [
    "#%pip install azure-search-documents\n",
    "#%pip install azure-identity\n",
    "\n",
    "import os\n",
    "import dotenv\n",
    "import openai\n",
    "import json\n",
    "\n",
    "from azure.identity import DefaultAzureCredential, get_bearer_token_provider\n",
    "from azure.search.documents import SearchClient\n",
    "from azure.search.documents.models import (\n",
    "    VectorizedQuery,\n",
    "    QueryType,\n",
    "    QueryCaptionType,\n",
    "    QueryAnswerType,\n",
    ")\n"
   ]
  },
  {
   "cell_type": "code",
   "execution_count": null,
   "id": "bb77e1a0",
   "metadata": {},
   "outputs": [],
   "source": [
    "openai_client = openai.OpenAI(\n",
    "    base_url=\"https://models.inference.ai.azure.com\",\n",
    "    api_key=os.environ[\"GITHUB_TOKEN\"]\n",
    ")\n",
    "MODEL_NAME = \"text-embedding-3-small\""
   ]
  },
  {
   "cell_type": "code",
   "execution_count": null,
   "id": "4fb41b11",
   "metadata": {},
   "outputs": [],
   "source": [
    "query_input = \"Resume la hoja de vida de Diego Zumárraga Mera\"\n",
    "embeddings_response = openai_client.embeddings.create(\n",
    "    model=MODEL_NAME,\n",
    "    input=query_input,\n",
    ")\n",
    "query_embedding = embeddings_response.data[0].embedding\n",
    "print(query_embedding)"
   ]
  },
  {
   "cell_type": "markdown",
   "id": "619507b7",
   "metadata": {},
   "source": [
    "### Buscar la consulta en Azure AI Search"
   ]
  },
  {
   "cell_type": "code",
   "execution_count": null,
   "id": "927e7f73",
   "metadata": {},
   "outputs": [],
   "source": [
    "item = {\"query\": query_input,\n",
    "        \"embedding\": query_embedding\n",
    "}"
   ]
  },
  {
   "cell_type": "code",
   "execution_count": null,
   "id": "a4c0813b",
   "metadata": {},
   "outputs": [],
   "source": [
    "search_client = SearchClient(\n",
    "        endpoint=os.environ[\"AZURE_AI_SEARCH_ENDPOINT\"],\n",
    "        index_name=\"my-index\",\n",
    "        credential=DefaultAzureCredential(),\n",
    "    )"
   ]
  },
  {
   "cell_type": "code",
   "execution_count": null,
   "id": "e349d6a0",
   "metadata": {},
   "outputs": [],
   "source": [
    "results = []\n",
    "vector_query = VectorizedQuery(\n",
    "            vector=item[\"embedding\"], k_nearest_neighbors=3, fields=\"embedding\"\n",
    "        )\n",
    "result = search_client.search(\n",
    "    search_text=item[\"query\"],\n",
    "    vector_queries=[vector_query],\n",
    "    query_type=QueryType.SEMANTIC,\n",
    "    semantic_configuration_name=\"default\",\n",
    "    query_caption=QueryCaptionType.EXTRACTIVE,\n",
    "    query_answer=QueryAnswerType.EXTRACTIVE,\n",
    "    top=2,\n",
    ")"
   ]
  },
  {
   "cell_type": "markdown",
   "id": "a39de06e",
   "metadata": {},
   "source": [
    "### Obtener la mejor respuesta"
   ]
  },
  {
   "cell_type": "code",
   "execution_count": null,
   "id": "d3db3d52",
   "metadata": {},
   "outputs": [],
   "source": [
    "answers = result.get_answers()\n",
    "if answers:\n",
    "    print(\"Answers:\")\n",
    "    for answer in answers:\n",
    "        print(f\"Answer: {answer.text}\")\n",
    "        print(f\"Confidence: {answer.score}\")"
   ]
  },
  {
   "cell_type": "markdown",
   "id": "45211707",
   "metadata": {},
   "source": [
    "### Obtener todos los resultados"
   ]
  },
  {
   "cell_type": "code",
   "execution_count": null,
   "id": "41bc415a",
   "metadata": {},
   "outputs": [],
   "source": [
    "docs = [\n",
    "        {\n",
    "            \"id\": doc[\"id\"],\n",
    "            \"title\": doc[\"title\"],\n",
    "            \"content\": doc[\"content\"],\n",
    "            \"rerankerScore\": doc[\"@search.reranker_score\"],\n",
    "        }\n",
    "        for doc in result\n",
    "    ]\n",
    "\n",
    "# Remove duplicates\n",
    "results.extend([i for i in docs if i[\"id\"] not in [x[\"id\"] for x in results]])\n",
    "\n",
    "print(f\"Found {len(results)} results\")\n",
    "for i, doc in enumerate(results):\n",
    "    print(f\"Result {i + 1}:\")\n",
    "    print(f\"Title: {doc['title']}\")\n",
    "    print(f\"Content: {doc['content']}\")\n",
    "    print(f\"Reranker Score: {doc['rerankerScore']}\")\n",
    "    print()"
   ]
  }
 ],
 "metadata": {
  "kernelspec": {
   "display_name": ".venv",
   "language": "python",
   "name": "python3"
  },
  "language_info": {
   "codemirror_mode": {
    "name": "ipython",
    "version": 3
   },
   "file_extension": ".py",
   "mimetype": "text/x-python",
   "name": "python",
   "nbconvert_exporter": "python",
   "pygments_lexer": "ipython3",
   "version": "3.10.16"
  }
 },
 "nbformat": 4,
 "nbformat_minor": 5
}
